{
 "cells": [
  {
   "cell_type": "markdown",
   "id": "1718d60c-016e-46d3-a6d2-34aa02b1d333",
   "metadata": {},
   "source": [
    "# Controlling CSM from an external source\n",
    "\n",
    "This notebook presents a method to inteact with CSM throgh a brwoser automation server. In this set-up a chrome driver is called by the selenuim package to control the web page created by CSM when running simulations. \n",
    "\n",
    "This example interacts with a dual simple state machine in CSM. Siginals are set from jupyer lab to the exposed web brwoser at the provided CSM ip address."
   ]
  },
  {
   "cell_type": "code",
   "execution_count": 16,
   "id": "e12a7d89-4da8-43ca-b351-0da7af089983",
   "metadata": {},
   "outputs": [],
   "source": [
    "# import the selenium webdriver package\n",
    "from selenium import webdriver\n",
    "from selenium.webdriver.chrome.options import Options\n",
    "import time\n",
    "import os"
   ]
  },
  {
   "cell_type": "code",
   "execution_count": 17,
   "id": "42556168-9424-4329-9959-ff159bd9b317",
   "metadata": {},
   "outputs": [],
   "source": [
    "# Set the driver options\n",
    "options = Options()\n",
    "options.add_argument(\"--headless\")\n",
    "options.add_argument(\"--window-size=1920x1080\")\n",
    "options.add_argument('--log-level=3')\n",
    "\n",
    "# set the ipaddress of the CSM simulation browser\n",
    "csm_ip = \"http://192.168.0.2:8080/jsComms.html\"\n",
    "\n",
    "# note if you have updated the ui and the old one shows \n",
    "# up then you need to update the ip\n",
    "# or press the Generate_HTML button on the ui model diagram"
   ]
  },
  {
   "cell_type": "code",
   "execution_count": 18,
   "id": "5ae5f9c1-7064-4bad-b00f-88dbd19e4a8d",
   "metadata": {},
   "outputs": [
    {
     "name": "stderr",
     "output_type": "stream",
     "text": [
      "C:\\Users\\jdehart\\AppData\\Local\\Temp\\ipykernel_71980\\2477209642.py:2: DeprecationWarning: executable_path has been deprecated, please pass in a Service object\n",
      "  driver = webdriver.Chrome(executable_path=\"C:/temp/chromedriver_win32/chromedriver.exe\",\n",
      "C:\\Users\\jdehart\\AppData\\Local\\Temp\\ipykernel_71980\\2477209642.py:2: DeprecationWarning: use options instead of chrome_options\n",
      "  driver = webdriver.Chrome(executable_path=\"C:/temp/chromedriver_win32/chromedriver.exe\",\n"
     ]
    }
   ],
   "source": [
    "# Provide the path of chromedriver present on your system.\n",
    "driver = webdriver.Chrome(executable_path=\"C:/temp/chromedriver_win32/chromedriver.exe\",\n",
    "                              chrome_options=options)\n",
    "#driver.set_window_size(600,800)"
   ]
  },
  {
   "cell_type": "code",
   "execution_count": 19,
   "id": "bfafe47b-9551-4041-af7d-40453f9811b7",
   "metadata": {},
   "outputs": [],
   "source": [
    "# Send a get request to the url\n",
    "driver.get(csm_ip)\n",
    "time.sleep(5) # give it a sec to open"
   ]
  },
  {
   "cell_type": "markdown",
   "id": "ef14bf06-fc8e-4ee6-9674-ca6d8b1805b8",
   "metadata": {},
   "source": [
    "Below are examples of sending commands directly to the buttons on the csm brwoser"
   ]
  },
  {
   "cell_type": "code",
   "execution_count": 20,
   "id": "77af3884-20de-45cc-a7b6-b11f49453609",
   "metadata": {},
   "outputs": [
    {
     "name": "stderr",
     "output_type": "stream",
     "text": [
      "C:\\Users\\jdehart\\AppData\\Local\\Temp\\ipykernel_71980\\238249039.py:2: DeprecationWarning: find_element_by_class_name is deprecated. Please use find_element(by=By.CLASS_NAME, value=name) instead\n",
      "  button = driver.find_element_by_class_name(\"a2\") # gotoB\n"
     ]
    }
   ],
   "source": [
    "# finding the button using ID\n",
    "button = driver.find_element_by_class_name(\"a2\") # gotoB\n",
    "\n",
    "# clicking on the button\n",
    "button.click()"
   ]
  },
  {
   "cell_type": "code",
   "execution_count": 21,
   "id": "1143ed3f-52b9-4326-9b9f-57d423405c86",
   "metadata": {},
   "outputs": [
    {
     "name": "stderr",
     "output_type": "stream",
     "text": [
      "C:\\Users\\jdehart\\AppData\\Local\\Temp\\ipykernel_71980\\3687754245.py:2: DeprecationWarning: find_element_by_class_name is deprecated. Please use find_element(by=By.CLASS_NAME, value=name) instead\n",
      "  button = driver.find_element_by_class_name(\"a3\") # gotoA\n"
     ]
    }
   ],
   "source": [
    "# finding the button using ID\n",
    "button = driver.find_element_by_class_name(\"a3\") # gotoA\n",
    "\n",
    "# clicking on the button\n",
    "button.click()"
   ]
  },
  {
   "cell_type": "code",
   "execution_count": 22,
   "id": "51aa5f57-c479-4595-957f-31135d3fe833",
   "metadata": {},
   "outputs": [
    {
     "name": "stderr",
     "output_type": "stream",
     "text": [
      "C:\\Users\\jdehart\\AppData\\Local\\Temp\\ipykernel_71980\\1231732668.py:2: DeprecationWarning: find_element_by_class_name is deprecated. Please use find_element(by=By.CLASS_NAME, value=name) instead\n",
      "  button = driver.find_element_by_class_name(\"a4\") #stop\n"
     ]
    }
   ],
   "source": [
    "# finding the button using ID\n",
    "button = driver.find_element_by_class_name(\"a4\") #stop\n",
    "\n",
    "# clicking on the button\n",
    "button.click()"
   ]
  },
  {
   "cell_type": "code",
   "execution_count": 23,
   "id": "01074e44-38c4-4973-884c-031a02084482",
   "metadata": {},
   "outputs": [
    {
     "name": "stderr",
     "output_type": "stream",
     "text": [
      "C:\\Users\\jdehart\\AppData\\Local\\Temp\\ipykernel_71980\\2403750813.py:2: DeprecationWarning: find_element_by_* commands are deprecated. Please use find_element() instead\n",
      "  button = driver.find_element_by_id(\"RestartButton\") #restart\n"
     ]
    }
   ],
   "source": [
    "# finding the button using ID\n",
    "button = driver.find_element_by_id(\"RestartButton\") #restart\n",
    "\n",
    "# clicking on the button\n",
    "button.click()"
   ]
  },
  {
   "cell_type": "markdown",
   "id": "fadd543c-baed-4604-a685-2dd085ee3471",
   "metadata": {},
   "source": [
    "Here is a fun example of using buttons in Jupyterlab to externally run the simulation"
   ]
  },
  {
   "cell_type": "code",
   "execution_count": 24,
   "id": "49673af5-cccc-4fa6-bf59-dd42ec38bfeb",
   "metadata": {},
   "outputs": [
    {
     "data": {
      "application/vnd.jupyter.widget-view+json": {
       "model_id": "4500d36330604733b04f1a43a1d4226c",
       "version_major": 2,
       "version_minor": 0
      },
      "text/plain": [
       "HBox(children=(Button(description='gotoA', style=ButtonStyle()), Button(description='gotoB', style=ButtonStyle…"
      ]
     },
     "metadata": {},
     "output_type": "display_data"
    }
   ],
   "source": [
    "from ipywidgets import Button, HBox\n",
    "csmStates = ['gotoA', 'gotoB', \"Stop\", \"Restart\"]\n",
    "switch = [Button(description=name) for name in csmStates]\n",
    "combined = HBox([items for items in switch])\n",
    "\n",
    "def stateSignal(btn):\n",
    "    if btn.description == \"gotoA\":\n",
    "        button = driver.find_element_by_class_name(\"a3\") # gotoA\n",
    "        button.click()\n",
    "        \n",
    "    if btn.description == \"gotoB\":\n",
    "        button = driver.find_element_by_class_name(\"a2\") # gotoA\n",
    "        button.click()\n",
    "        \n",
    "    if btn.description == \"Stop\":\n",
    "        button = driver.find_element_by_class_name(\"a4\") # gotoA\n",
    "        button.click()\n",
    "        \n",
    "    if btn.description == \"Restart\":\n",
    "        button = driver.find_element_by_id(\"RestartButton\") # Restart\n",
    "        button.click()\n",
    "\n",
    "    \n",
    "for n in range(len(csmStates)):\n",
    "    switch[n].on_click(stateSignal)\n",
    "\n",
    "display(combined)"
   ]
  },
  {
   "cell_type": "code",
   "execution_count": null,
   "id": "bd4077b0-6d35-43cb-926d-dfacb5631923",
   "metadata": {},
   "outputs": [],
   "source": []
  }
 ],
 "metadata": {
  "kernelspec": {
   "display_name": "Python 3 (ipykernel)",
   "language": "python",
   "name": "python3"
  },
  "language_info": {
   "codemirror_mode": {
    "name": "ipython",
    "version": 3
   },
   "file_extension": ".py",
   "mimetype": "text/x-python",
   "name": "python",
   "nbconvert_exporter": "python",
   "pygments_lexer": "ipython3",
   "version": "3.9.12"
  }
 },
 "nbformat": 4,
 "nbformat_minor": 5
}
