{
 "cells": [
  {
   "cell_type": "code",
   "execution_count": 1,
   "id": "1abf111d-124e-4a5c-9b7c-28a623431812",
   "metadata": {},
   "outputs": [
    {
     "name": "stderr",
     "output_type": "stream",
     "text": [
      "C:\\Users\\jdehart\\AppData\\Local\\Temp\\ipykernel_130284\\1083621989.py:20: DeprecationWarning: executable_path has been deprecated, please pass in a Service object\n",
      "  driver = webdriver.Chrome(executable_path=\"C:/temp/chromedriver_win32/chromedriver.exe\",\n",
      "C:\\Users\\jdehart\\AppData\\Local\\Temp\\ipykernel_130284\\1083621989.py:20: DeprecationWarning: use options instead of chrome_options\n",
      "  driver = webdriver.Chrome(executable_path=\"C:/temp/chromedriver_win32/chromedriver.exe\",\n"
     ]
    }
   ],
   "source": [
    "import socket\n",
    "from selenium import webdriver\n",
    "from selenium.webdriver.common.by import By\n",
    "import time\n",
    "\n",
    "# Set the driver options\n",
    "options = webdriver.ChromeOptions()\n",
    "options.add_argument(\"--headless\")\n",
    "options.add_argument(\"--start-maximized\")\n",
    "options.add_argument('--log-level=3')\n",
    "\n",
    "# set the ipaddress of the CSM simulation browser\n",
    "csm_ip = \"http://192.168.0.5:8080/jsComms.html\"\n",
    "\n",
    "# note if you have updated the ui and the old one shows \n",
    "# up then you need to update the ip\n",
    "# or press the Generate_HTML button on the ui model diagram\n",
    "\n",
    "# Provide the path of chromedriver present on your system.\n",
    "driver = webdriver.Chrome(executable_path=\"C:/temp/chromedriver_win32/chromedriver.exe\",\n",
    "                              chrome_options=options)\n",
    "#driver.set_window_size(600,800)\n",
    "\n",
    "# Send a get request to the url\n",
    "driver.get(csm_ip)\n",
    "time.sleep(5) # give it a sec to open"
   ]
  },
  {
   "cell_type": "code",
   "execution_count": null,
   "id": "15216325-b806-4cd8-9ac5-c34c94a1beed",
   "metadata": {},
   "outputs": [
    {
     "name": "stdout",
     "output_type": "stream",
     "text": [
      "Connection from: ('127.0.0.1', 64296)\n"
     ]
    }
   ],
   "source": [
    "def server_program():\n",
    "    # get the hostname\n",
    "    host = \"127.0.0.1\" #socket.gethostname()\n",
    "    port = 5000  # initiate port no above 1024\n",
    "\n",
    "    server_socket = socket.socket()  # get instance\n",
    "    # look closely. The bind() function takes tuple as argument\n",
    "    server_socket.bind((host, port))  # bind host address and port together\n",
    "\n",
    "    # configure how many client the server can listen simultaneously\n",
    "    server_socket.listen(2)\n",
    "    conn, address = server_socket.accept()  # accept new connection\n",
    "    print(\"Connection from: \" + str(address))\n",
    "    while True:\n",
    "        # receive data stream. it won't accept data packet greater than 1024 bytes\n",
    "        data = conn.recv(1024).decode().strip()\n",
    "        if not data:\n",
    "            # if data is not received break\n",
    "            break\n",
    "        if data == \"a\":\n",
    "            button = driver.find_element(by=By.CLASS_NAME, value='a2') # gotoB\n",
    "            button.click()\n",
    "\n",
    "        if data == \"b\":\n",
    "            button = driver.find_element(by=By.CLASS_NAME, value='a3') # gotoA\n",
    "            button.click()\n",
    "\n",
    "        print(data)\n",
    "        print(\"from connected user: \" + str(data))\n",
    "        #data = input(' -> ')\n",
    "        #conn.send(data.encode())  # send data to the client\n",
    "\n",
    "    conn.close()  # close the connection\n",
    "\n",
    "\n",
    "if __name__ == '__main__':\n",
    "    server_program()\n"
   ]
  },
  {
   "cell_type": "code",
   "execution_count": null,
   "id": "491e4f88-d141-4d98-8eb6-cd87d625fb12",
   "metadata": {},
   "outputs": [],
   "source": []
  }
 ],
 "metadata": {
  "kernelspec": {
   "display_name": "Python 3 (ipykernel)",
   "language": "python",
   "name": "python3"
  },
  "language_info": {
   "codemirror_mode": {
    "name": "ipython",
    "version": 3
   },
   "file_extension": ".py",
   "mimetype": "text/x-python",
   "name": "python",
   "nbconvert_exporter": "python",
   "pygments_lexer": "ipython3",
   "version": "3.9.12"
  }
 },
 "nbformat": 4,
 "nbformat_minor": 5
}
