{
 "cells": [
  {
   "cell_type": "markdown",
   "id": "1718d60c-016e-46d3-a6d2-34aa02b1d333",
   "metadata": {},
   "source": [
    "# Controlling CSM from an external source - Read/Write\n",
    "\n",
    "This notebook presents a method to inteact with CSM throgh a brwoser automation server. In this set-up a chrome driver is called by the selenuim package to control the web page created by CSM when running simulations. \n",
    "\n",
    "This example interacts with a dual simple state machine in CSM. Siginals are set from jupyer lab to the exposed web brwoser at the provided CSM ip address."
   ]
  },
  {
   "cell_type": "code",
   "execution_count": 154,
   "id": "e12a7d89-4da8-43ca-b351-0da7af089983",
   "metadata": {},
   "outputs": [],
   "source": [
    "# import the selenium webdriver package\n",
    "from selenium import webdriver\n",
    "from selenium.webdriver.chrome.options import Options\n",
    "import time\n",
    "import os"
   ]
  },
  {
   "cell_type": "code",
   "execution_count": 155,
   "id": "42556168-9424-4329-9959-ff159bd9b317",
   "metadata": {},
   "outputs": [],
   "source": [
    "# Set the driver options\n",
    "options = webdriver.ChromeOptions()\n",
    "#options.add_argument(\"--headless\")\n",
    "options.add_argument(\"--start-maximized\")\n",
    "options.add_argument('--log-level=3')\n",
    "\n",
    "# set the ipaddress of the CSM simulation browser\n",
    "csm_ip = \"http://192.168.0.2:8080/sineGen.html\"\n",
    "\n",
    "# note if you have updated the ui and the old one shows \n",
    "# up then you need to update the ip\n",
    "# or press the Generate_HTML button on the ui model diagram"
   ]
  },
  {
   "cell_type": "code",
   "execution_count": 156,
   "id": "5ae5f9c1-7064-4bad-b00f-88dbd19e4a8d",
   "metadata": {},
   "outputs": [
    {
     "name": "stderr",
     "output_type": "stream",
     "text": [
      "C:\\Users\\jdehart\\AppData\\Local\\Temp\\ipykernel_94104\\2477209642.py:2: DeprecationWarning: executable_path has been deprecated, please pass in a Service object\n",
      "  driver = webdriver.Chrome(executable_path=\"C:/temp/chromedriver_win32/chromedriver.exe\",\n",
      "C:\\Users\\jdehart\\AppData\\Local\\Temp\\ipykernel_94104\\2477209642.py:2: DeprecationWarning: use options instead of chrome_options\n",
      "  driver = webdriver.Chrome(executable_path=\"C:/temp/chromedriver_win32/chromedriver.exe\",\n"
     ]
    }
   ],
   "source": [
    "# Provide the path of chromedriver present on your system.\n",
    "driver = webdriver.Chrome(executable_path=\"C:/temp/chromedriver_win32/chromedriver.exe\",\n",
    "                              chrome_options=options)\n",
    "#driver.set_window_size(600,800)"
   ]
  },
  {
   "cell_type": "code",
   "execution_count": 157,
   "id": "bfafe47b-9551-4041-af7d-40453f9811b7",
   "metadata": {},
   "outputs": [],
   "source": [
    "# Send a get request to the url\n",
    "driver.get(csm_ip)\n",
    "time.sleep(5) # give it a sec to open"
   ]
  },
  {
   "cell_type": "markdown",
   "id": "ef14bf06-fc8e-4ee6-9674-ca6d8b1805b8",
   "metadata": {},
   "source": [
    "Below are examples of sending commands directly to the buttons on the csm brwoser"
   ]
  },
  {
   "cell_type": "code",
   "execution_count": 136,
   "id": "77af3884-20de-45cc-a7b6-b11f49453609",
   "metadata": {},
   "outputs": [
    {
     "name": "stderr",
     "output_type": "stream",
     "text": [
      "C:\\Users\\jdehart\\AppData\\Local\\Temp\\ipykernel_94104\\816641514.py:2: DeprecationWarning: find_element_by_xpath is deprecated. Please use find_element(by=By.XPATH, value=xpath) instead\n",
      "  button = driver.find_element_by_xpath('//button[normalize-space()=\"Start\"]').click()\n"
     ]
    }
   ],
   "source": [
    "# finding the button using xpath\n",
    "button = driver.find_element_by_xpath('//button[normalize-space()=\"Start\"]').click()"
   ]
  },
  {
   "cell_type": "code",
   "execution_count": 41,
   "id": "01074e44-38c4-4973-884c-031a02084482",
   "metadata": {},
   "outputs": [
    {
     "name": "stderr",
     "output_type": "stream",
     "text": [
      "C:\\Users\\jdehart\\AppData\\Local\\Temp\\ipykernel_94104\\3422671095.py:2: DeprecationWarning: find_element_by_* commands are deprecated. Please use find_element() instead\n",
      "  button = driver.find_element_by_id(\"TerminateButton\").click() #restart\n"
     ]
    }
   ],
   "source": [
    "# finding the button using ID\n",
    "button = driver.find_element_by_id(\"TerminateButton\").click() #restart"
   ]
  },
  {
   "cell_type": "code",
   "execution_count": 39,
   "id": "f7a98679-4f18-48c6-8809-207e9cc406b3",
   "metadata": {},
   "outputs": [
    {
     "name": "stderr",
     "output_type": "stream",
     "text": [
      "C:\\Users\\jdehart\\AppData\\Local\\Temp\\ipykernel_94104\\3671032438.py:2: DeprecationWarning: find_element_by_* commands are deprecated. Please use find_element() instead\n",
      "  button = driver.find_element_by_id(\"RestartButton\").click() #restart\n"
     ]
    }
   ],
   "source": [
    "# finding the button using ID\n",
    "button = driver.find_element_by_id(\"RestartButton\").click() #restart"
   ]
  },
  {
   "cell_type": "markdown",
   "id": "fadd543c-baed-4604-a685-2dd085ee3471",
   "metadata": {},
   "source": [
    "Here is a fun example of using buttons in Jupyterlab to externally run the simulation"
   ]
  },
  {
   "cell_type": "code",
   "execution_count": 158,
   "id": "49673af5-cccc-4fa6-bf59-dd42ec38bfeb",
   "metadata": {},
   "outputs": [
    {
     "data": {
      "application/vnd.jupyter.widget-view+json": {
       "model_id": "9121b6b1d11a4c97bdc095c0fc10f6f6",
       "version_major": 2,
       "version_minor": 0
      },
      "text/plain": [
       "HBox(children=(Button(description='Start', style=ButtonStyle()), Button(description='Pause', style=ButtonStyle…"
      ]
     },
     "metadata": {},
     "output_type": "display_data"
    }
   ],
   "source": [
    "# Build a list of buttons for pressing\n",
    "from ipywidgets import Button, HBox\n",
    "csmStates = ['Start', 'Pause', 'Resume', 'Terminate', \"ReStart\"]\n",
    "switch = [Button(description=name) for name in csmStates]\n",
    "combined = HBox([items for items in switch])\n",
    "\n",
    "def stateSignal(btn):\n",
    "    if btn.description == \"Start\":\n",
    "        button = driver.find_element_by_xpath('//button[normalize-space()=\"Start\"]').click()\n",
    "        \n",
    "    if btn.description == \"Pause\":\n",
    "        button = driver.find_element_by_id(\"PauseButton\").click() #restart\n",
    "        \n",
    "    if btn.description == \"Resume\":\n",
    "        button = driver.find_element_by_id(\"ResumeButton\").click() #restart\n",
    "        \n",
    "    if btn.description == \"Terminate\":\n",
    "        button = driver.find_element_by_id(\"TerminateButton\").click() #restart\n",
    "        \n",
    "    if btn.description == \"ReStart\":\n",
    "        button = driver.find_element_by_id(\"RestartButton\").click() #restart\n",
    "\n",
    "    \n",
    "for n in range(len(csmStates)):\n",
    "    switch[n].on_click(stateSignal)\n",
    "\n",
    "display(combined)"
   ]
  },
  {
   "cell_type": "markdown",
   "id": "4a996eed-27c1-4745-bec3-2e283e75cb74",
   "metadata": {},
   "source": [
    "# for fun lets grab some data from a csm session"
   ]
  },
  {
   "cell_type": "code",
   "execution_count": 159,
   "id": "551bd6fe-569a-418f-ab6d-7e45106cc2af",
   "metadata": {},
   "outputs": [],
   "source": [
    "# Create a list\n",
    "dataList = []\n",
    "count = 0"
   ]
  },
  {
   "cell_type": "code",
   "execution_count": 160,
   "id": "6bd79731-e2ba-4a64-b612-07d816d6d49b",
   "metadata": {},
   "outputs": [
    {
     "name": "stderr",
     "output_type": "stream",
     "text": [
      "C:\\Users\\jdehart\\AppData\\Local\\Temp\\ipykernel_94104\\1226085620.py:3: DeprecationWarning: find_element_by_name is deprecated. Please use find_element(by=By.NAME, value=name) instead\n",
      "  dataList.append(driver.find_element_by_name(\"display\").text)\n"
     ]
    }
   ],
   "source": [
    "# Capture the text data from the 'display' item\n",
    "while count < 100:\n",
    "    dataList.append(driver.find_element_by_name(\"display\").text)\n",
    "    count = count + 1"
   ]
  },
  {
   "cell_type": "code",
   "execution_count": 161,
   "id": "40f6a66e-b8b2-406f-b781-a67f24390aa6",
   "metadata": {},
   "outputs": [],
   "source": [
    "# Convert from string to fload\n",
    "test_list = list(map(float, dataList))"
   ]
  },
  {
   "cell_type": "code",
   "execution_count": 162,
   "id": "fdde6ca6-0456-4fa1-ad12-5bcb8dfce823",
   "metadata": {},
   "outputs": [
    {
     "data": {
      "text/plain": [
       "[<matplotlib.lines.Line2D at 0x2085c100940>]"
      ]
     },
     "execution_count": 162,
     "metadata": {},
     "output_type": "execute_result"
    },
    {
     "data": {
      "image/png": "[encoded data removed]",
      "text/plain": [
       "<Figure size 432x288 with 1 Axes>"
      ]
     },
     "metadata": {
      "needs_background": "light"
     },
     "output_type": "display_data"
    }
   ],
   "source": [
    "# Plot the data\n",
    "import matplotlib.pyplot as plt\n",
    "plt.plot(test_list)"
   ]
  },
  {
   "cell_type": "code",
   "execution_count": null,
   "id": "7bc5659c-5854-4b80-9cd3-191a78705013",
   "metadata": {},
   "outputs": [],
   "source": []
  }
 ],
 "metadata": {
  "kernelspec": {
   "display_name": "Python 3 (ipykernel)",
   "language": "python",
   "name": "python3"
  },
  "language_info": {
   "codemirror_mode": {
    "name": "ipython",
    "version": 3
   },
   "file_extension": ".py",
   "mimetype": "text/x-python",
   "name": "python",
   "nbconvert_exporter": "python",
   "pygments_lexer": "ipython3",
   "version": "3.9.12"
  }
 },
 "nbformat": 4,
 "nbformat_minor": 5
}
