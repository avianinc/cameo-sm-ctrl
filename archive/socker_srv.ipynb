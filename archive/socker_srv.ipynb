{
 "cells": [
  {
   "cell_type": "code",
   "execution_count": 1,
   "id": "1abf111d-124e-4a5c-9b7c-28a623431812",
   "metadata": {},
   "outputs": [
    {
     "name": "stderr",
     "output_type": "stream",
     "text": [
      "C:\\Users\\jdehart\\AppData\\Local\\Temp\\ipykernel_188156\\1083621989.py:20: DeprecationWarning: executable_path has been deprecated, please pass in a Service object\n",
      "  driver = webdriver.Chrome(executable_path=\"C:/temp/chromedriver_win32/chromedriver.exe\",\n",
      "C:\\Users\\jdehart\\AppData\\Local\\Temp\\ipykernel_188156\\1083621989.py:20: DeprecationWarning: use options instead of chrome_options\n",
      "  driver = webdriver.Chrome(executable_path=\"C:/temp/chromedriver_win32/chromedriver.exe\",\n"
     ]
    },
    {
     "ename": "WebDriverException",
     "evalue": "Message: unknown error: net::ERR_CONNECTION_REFUSED\n  (Session info: headless chrome=102.0.5005.115)\nStacktrace:\nBacktrace:\n\tOrdinal0 [0x003BD953+2414931]\n\tOrdinal0 [0x0034F5E1+1963489]\n\tOrdinal0 [0x0023C6B8+837304]\n\tOrdinal0 [0x00238E18+822808]\n\tOrdinal0 [0x0022DE5D+777821]\n\tOrdinal0 [0x0022EA3B+780859]\n\tOrdinal0 [0x0022E06A+778346]\n\tOrdinal0 [0x0022D646+775750]\n\tOrdinal0 [0x0022C565+771429]\n\tOrdinal0 [0x0022CA3D+772669]\n\tOrdinal0 [0x0023DEA4+843428]\n\tOrdinal0 [0x00294EBD+1199805]\n\tOrdinal0 [0x0028449C+1131676]\n\tOrdinal0 [0x00294812+1198098]\n\tOrdinal0 [0x002842B6+1131190]\n\tOrdinal0 [0x0025E860+976992]\n\tOrdinal0 [0x0025F756+980822]\n\tGetHandleVerifier [0x0062CC62+2510274]\n\tGetHandleVerifier [0x0061F760+2455744]\n\tGetHandleVerifier [0x0044EABA+551962]\n\tGetHandleVerifier [0x0044D916+547446]\n\tOrdinal0 [0x00355F3B+1990459]\n\tOrdinal0 [0x0035A898+2009240]\n\tOrdinal0 [0x0035A985+2009477]\n\tOrdinal0 [0x00363AD1+2046673]\n\tBaseThreadInitThunk [0x75BE6739+25]\n\tRtlGetFullPathName_UEx [0x77688FEF+1215]\n\tRtlGetFullPathName_UEx [0x77688FBD+1165]\n",
     "output_type": "error",
     "traceback": [
      "\u001b[1;31m---------------------------------------------------------------------------\u001b[0m",
      "\u001b[1;31mWebDriverException\u001b[0m                        Traceback (most recent call last)",
      "Input \u001b[1;32mIn [1]\u001b[0m, in \u001b[0;36m<cell line: 25>\u001b[1;34m()\u001b[0m\n\u001b[0;32m     20\u001b[0m driver \u001b[38;5;241m=\u001b[39m webdriver\u001b[38;5;241m.\u001b[39mChrome(executable_path\u001b[38;5;241m=\u001b[39m\u001b[38;5;124m\"\u001b[39m\u001b[38;5;124mC:/temp/chromedriver_win32/chromedriver.exe\u001b[39m\u001b[38;5;124m\"\u001b[39m,\n\u001b[0;32m     21\u001b[0m                               chrome_options\u001b[38;5;241m=\u001b[39moptions)\n\u001b[0;32m     22\u001b[0m \u001b[38;5;66;03m#driver.set_window_size(600,800)\u001b[39;00m\n\u001b[0;32m     23\u001b[0m \n\u001b[0;32m     24\u001b[0m \u001b[38;5;66;03m# Send a get request to the url\u001b[39;00m\n\u001b[1;32m---> 25\u001b[0m \u001b[43mdriver\u001b[49m\u001b[38;5;241;43m.\u001b[39;49m\u001b[43mget\u001b[49m\u001b[43m(\u001b[49m\u001b[43mcsm_ip\u001b[49m\u001b[43m)\u001b[49m\n\u001b[0;32m     26\u001b[0m time\u001b[38;5;241m.\u001b[39msleep(\u001b[38;5;241m5\u001b[39m)\n",
      "File \u001b[1;32m~\\Anaconda3\\envs\\elyra_dev\\lib\\site-packages\\selenium\\webdriver\\remote\\webdriver.py:447\u001b[0m, in \u001b[0;36mWebDriver.get\u001b[1;34m(self, url)\u001b[0m\n\u001b[0;32m    443\u001b[0m \u001b[38;5;28;01mdef\u001b[39;00m \u001b[38;5;21mget\u001b[39m(\u001b[38;5;28mself\u001b[39m, url: \u001b[38;5;28mstr\u001b[39m) \u001b[38;5;241m-\u001b[39m\u001b[38;5;241m>\u001b[39m \u001b[38;5;28;01mNone\u001b[39;00m:\n\u001b[0;32m    444\u001b[0m     \u001b[38;5;124;03m\"\"\"\u001b[39;00m\n\u001b[0;32m    445\u001b[0m \u001b[38;5;124;03m    Loads a web page in the current browser session.\u001b[39;00m\n\u001b[0;32m    446\u001b[0m \u001b[38;5;124;03m    \"\"\"\u001b[39;00m\n\u001b[1;32m--> 447\u001b[0m     \u001b[38;5;28;43mself\u001b[39;49m\u001b[38;5;241;43m.\u001b[39;49m\u001b[43mexecute\u001b[49m\u001b[43m(\u001b[49m\u001b[43mCommand\u001b[49m\u001b[38;5;241;43m.\u001b[39;49m\u001b[43mGET\u001b[49m\u001b[43m,\u001b[49m\u001b[43m \u001b[49m\u001b[43m{\u001b[49m\u001b[38;5;124;43m'\u001b[39;49m\u001b[38;5;124;43murl\u001b[39;49m\u001b[38;5;124;43m'\u001b[39;49m\u001b[43m:\u001b[49m\u001b[43m \u001b[49m\u001b[43murl\u001b[49m\u001b[43m}\u001b[49m\u001b[43m)\u001b[49m\n",
      "File \u001b[1;32m~\\Anaconda3\\envs\\elyra_dev\\lib\\site-packages\\selenium\\webdriver\\remote\\webdriver.py:435\u001b[0m, in \u001b[0;36mWebDriver.execute\u001b[1;34m(self, driver_command, params)\u001b[0m\n\u001b[0;32m    433\u001b[0m response \u001b[38;5;241m=\u001b[39m \u001b[38;5;28mself\u001b[39m\u001b[38;5;241m.\u001b[39mcommand_executor\u001b[38;5;241m.\u001b[39mexecute(driver_command, params)\n\u001b[0;32m    434\u001b[0m \u001b[38;5;28;01mif\u001b[39;00m response:\n\u001b[1;32m--> 435\u001b[0m     \u001b[38;5;28;43mself\u001b[39;49m\u001b[38;5;241;43m.\u001b[39;49m\u001b[43merror_handler\u001b[49m\u001b[38;5;241;43m.\u001b[39;49m\u001b[43mcheck_response\u001b[49m\u001b[43m(\u001b[49m\u001b[43mresponse\u001b[49m\u001b[43m)\u001b[49m\n\u001b[0;32m    436\u001b[0m     response[\u001b[38;5;124m'\u001b[39m\u001b[38;5;124mvalue\u001b[39m\u001b[38;5;124m'\u001b[39m] \u001b[38;5;241m=\u001b[39m \u001b[38;5;28mself\u001b[39m\u001b[38;5;241m.\u001b[39m_unwrap_value(\n\u001b[0;32m    437\u001b[0m         response\u001b[38;5;241m.\u001b[39mget(\u001b[38;5;124m'\u001b[39m\u001b[38;5;124mvalue\u001b[39m\u001b[38;5;124m'\u001b[39m, \u001b[38;5;28;01mNone\u001b[39;00m))\n\u001b[0;32m    438\u001b[0m     \u001b[38;5;28;01mreturn\u001b[39;00m response\n",
      "File \u001b[1;32m~\\Anaconda3\\envs\\elyra_dev\\lib\\site-packages\\selenium\\webdriver\\remote\\errorhandler.py:247\u001b[0m, in \u001b[0;36mErrorHandler.check_response\u001b[1;34m(self, response)\u001b[0m\n\u001b[0;32m    245\u001b[0m         alert_text \u001b[38;5;241m=\u001b[39m value[\u001b[38;5;124m'\u001b[39m\u001b[38;5;124malert\u001b[39m\u001b[38;5;124m'\u001b[39m]\u001b[38;5;241m.\u001b[39mget(\u001b[38;5;124m'\u001b[39m\u001b[38;5;124mtext\u001b[39m\u001b[38;5;124m'\u001b[39m)\n\u001b[0;32m    246\u001b[0m     \u001b[38;5;28;01mraise\u001b[39;00m exception_class(message, screen, stacktrace, alert_text)  \u001b[38;5;66;03m# type: ignore[call-arg]  # mypy is not smart enough here\u001b[39;00m\n\u001b[1;32m--> 247\u001b[0m \u001b[38;5;28;01mraise\u001b[39;00m exception_class(message, screen, stacktrace)\n",
      "\u001b[1;31mWebDriverException\u001b[0m: Message: unknown error: net::ERR_CONNECTION_REFUSED\n  (Session info: headless chrome=102.0.5005.115)\nStacktrace:\nBacktrace:\n\tOrdinal0 [0x003BD953+2414931]\n\tOrdinal0 [0x0034F5E1+1963489]\n\tOrdinal0 [0x0023C6B8+837304]\n\tOrdinal0 [0x00238E18+822808]\n\tOrdinal0 [0x0022DE5D+777821]\n\tOrdinal0 [0x0022EA3B+780859]\n\tOrdinal0 [0x0022E06A+778346]\n\tOrdinal0 [0x0022D646+775750]\n\tOrdinal0 [0x0022C565+771429]\n\tOrdinal0 [0x0022CA3D+772669]\n\tOrdinal0 [0x0023DEA4+843428]\n\tOrdinal0 [0x00294EBD+1199805]\n\tOrdinal0 [0x0028449C+1131676]\n\tOrdinal0 [0x00294812+1198098]\n\tOrdinal0 [0x002842B6+1131190]\n\tOrdinal0 [0x0025E860+976992]\n\tOrdinal0 [0x0025F756+980822]\n\tGetHandleVerifier [0x0062CC62+2510274]\n\tGetHandleVerifier [0x0061F760+2455744]\n\tGetHandleVerifier [0x0044EABA+551962]\n\tGetHandleVerifier [0x0044D916+547446]\n\tOrdinal0 [0x00355F3B+1990459]\n\tOrdinal0 [0x0035A898+2009240]\n\tOrdinal0 [0x0035A985+2009477]\n\tOrdinal0 [0x00363AD1+2046673]\n\tBaseThreadInitThunk [0x75BE6739+25]\n\tRtlGetFullPathName_UEx [0x77688FEF+1215]\n\tRtlGetFullPathName_UEx [0x77688FBD+1165]\n"
     ]
    }
   ],
   "source": [
    "import socket\n",
    "from selenium import webdriver\n",
    "from selenium.webdriver.common.by import By\n",
    "import time\n",
    "\n",
    "# Set the driver options\n",
    "options = webdriver.ChromeOptions()\n",
    "options.add_argument(\"--headless\")\n",
    "options.add_argument(\"--start-maximized\")\n",
    "options.add_argument('--log-level=3')\n",
    "\n",
    "# set the ipaddress of the CSM simulation browser\n",
    "csm_ip = \"http://192.168.0.5:8080/jsComms.html\"\n",
    "\n",
    "# note if you have updated the ui and the old one shows \n",
    "# up then you need to update the ip\n",
    "# or press the Generate_HTML button on the ui model diagram\n",
    "\n",
    "# Provide the path of chromedriver present on your system.\n",
    "driver = webdriver.Chrome(executable_path=\"C:/temp/chromedriver_win32/chromedriver.exe\",\n",
    "                              chrome_options=options)\n",
    "#driver.set_window_size(600,800)\n",
    "\n",
    "# Send a get request to the url\n",
    "driver.get(csm_ip)\n",
    "time.sleep(5) # give it a sec to open"
   ]
  },
  {
   "cell_type": "code",
   "execution_count": null,
   "id": "15216325-b806-4cd8-9ac5-c34c94a1beed",
   "metadata": {},
   "outputs": [],
   "source": [
    "def server_program():\n",
    "    # get the hostname\n",
    "    host = \"127.0.0.1\" #socket.gethostname()\n",
    "    port = 5000  # initiate port no above 1024\n",
    "\n",
    "    server_socket = socket.socket()  # get instance\n",
    "    # look closely. The bind() function takes tuple as argument\n",
    "    server_socket.bind((host, port))  # bind host address and port together\n",
    "\n",
    "    # configure how many client the server can listen simultaneously\n",
    "    server_socket.listen(2)\n",
    "    conn, address = server_socket.accept()  # accept new connection\n",
    "    print(\"Connection from: \" + str(address))\n",
    "    while True:\n",
    "        # receive data stream. it won't accept data packet greater than 1024 bytes\n",
    "        data = conn.recv(1024).decode().strip()\n",
    "        if not data:\n",
    "            # if data is not received break\n",
    "            break\n",
    "        if data == \"a\":\n",
    "            button = driver.find_element(by=By.CLASS_NAME, value='a2') # gotoB\n",
    "            button.click()\n",
    "\n",
    "        if data == \"b\":\n",
    "            button = driver.find_element(by=By.CLASS_NAME, value='a3') # gotoA\n",
    "            button.click()\n",
    "\n",
    "        print(data)\n",
    "        print(\"from connected user: \" + str(data))\n",
    "        #data = input(' -> ')\n",
    "        #conn.send(data.encode())  # send data to the client\n",
    "\n",
    "    conn.close()  # close the connection\n",
    "\n",
    "\n",
    "if __name__ == '__main__':\n",
    "    server_program()\n"
   ]
  },
  {
   "cell_type": "code",
   "execution_count": null,
   "id": "491e4f88-d141-4d98-8eb6-cd87d625fb12",
   "metadata": {},
   "outputs": [],
   "source": []
  }
 ],
 "metadata": {
  "kernelspec": {
   "display_name": "Python 3 (ipykernel)",
   "language": "python",
   "name": "python3"
  },
  "language_info": {
   "codemirror_mode": {
    "name": "ipython",
    "version": 3
   },
   "file_extension": ".py",
   "mimetype": "text/x-python",
   "name": "python",
   "nbconvert_exporter": "python",
   "pygments_lexer": "ipython3",
   "version": "3.9.12"
  }
 },
 "nbformat": 4,
 "nbformat_minor": 5
}
